{
 "cells": [
  {
   "cell_type": "code",
   "execution_count": 1,
   "id": "38255e1a",
   "metadata": {},
   "outputs": [
    {
     "name": "stdout",
     "output_type": "stream",
     "text": [
      "new day new topic\n"
     ]
    }
   ],
   "source": [
    "print('new day new topic')"
   ]
  },
  {
   "cell_type": "markdown",
   "id": "d483766d",
   "metadata": {},
   "source": [
    "# Machine learning paradigm"
   ]
  },
  {
   "cell_type": "markdown",
   "id": "8ff8d20e",
   "metadata": {},
   "source": [
    "## Main 3 paradigm\n",
    "## 1. Supervised Learning\n",
    "## 2. Unsupervised Learning\n",
    "## 3. Reinforcement Learning"
   ]
  },
  {
   "cell_type": "markdown",
   "id": "ec4ea207",
   "metadata": {},
   "source": [
    "## defination \n",
    "### 1. Supervised Learning :- Supervised learning is a machine learning task in which a function maps the input to output data using the provided input-output pairs.\n",
    "* The above statement states that in this type of learning, you need to give both the input and output(usually in the form of labels) to the computer for it to learn from it. What the computer does is that it generates a function based on this data, which can be anything like a simple line, to a complex convex function, depending on the data provided.\n",
    "\n",
    "#### Types\n",
    "#### 1. Classification :- Machine is trained to classify something into some class.\n",
    "\n",
    "* 1. classifying whether a patient has disease or not\n",
    "* 2. classifying whether an email is spam or not\n",
    "\n",
    "#### 2. Regression: Machine is trained to predict some value like price, weight or height.\n",
    "\n",
    "* 1. predicting house/property price\n",
    "* 2. predicting stock market price\n",
    "\n",
    "### 2. Unsupervised Learning :- In this type of learning paradigm, the computer is provided with just the input to develop a learning pattern. It is basically Learning from no results!!\n",
    "* This means that the computer has to recognize a pattern in the given input, and develop an learning algorithm accordingly. So we conclude that “the machine learns through observation & find structures in data”. This is still a very unexplored field of machine learning, and big tech giants like Google and Microsoft are currently researching on development in it\n",
    "\n",
    "#### Types \n",
    "#### 1.Clustering: A clustering problem is where you want to discover the inherent groupings in the data\n",
    "\n",
    "* 1. such as grouping customers by purchasing behavior\n",
    "\n",
    "#### 2.Association: An association rule learning problem is where you want to discover rules that describe large portions of your data\n",
    "\n",
    "* 1. such as people that buy X also tend to buy Y\n",
    "\n",
    "### 3. Reinforcement Learning :- Reinforcement Learning is a type of Machine Learning, and thereby also a branch of Artificial Intelligence. It allows machines and software agents to automatically determine the ideal behavior within a specific context, in order to maximize its performance\n",
    "* There is an excellent analogy to explain this type of learning paradigm, “training a dog”.\n",
    "\n",
    "* This learning paradigm is like a dog trainer, which teaches the dog how to respond to specific signs, like a whistle, clap, or anything else. Whenever the dog responds correctly, the trainer gives a reward to the dog, which can be a “Bone or a biscuit”.\n",
    "\n",
    "* A variety of different problems can be solved using Reinforcement Learning. Because RL agents can learn without expert supervision, the type of problems that are best suited to RL are complex problems where there appears to be no obvious or easily programmable solution. Two of the main ones are:\n",
    "\n",
    "* 1.Game playing — determining the best move to make in a game often depends on a number of different factors, hence the number of possible states that can exist in a particular game is usually very large.\n",
    "\n",
    "* 2.Control problems — such as elevator scheduling. Again, it is not obvious what strategies would provide the best, most timely elevator service. For control problems such as this, RL agents can be left to learn in a simulated environment and eventually they will come up with good controlling policies.\n",
    "\n",
    "## https://medium.datadriveninvestor.com/learning-paradigms-in-machine-learning-146ebf8b5943"
   ]
  },
  {
   "cell_type": "markdown",
   "id": "94b382f6",
   "metadata": {},
   "source": [
    "# Supervised Learning >> Classification "
   ]
  },
  {
   "cell_type": "markdown",
   "id": "1cf9a407",
   "metadata": {},
   "source": [
    "## Algorithm\n",
    "### Here are some common classification algorithms:\n",
    "\n",
    "#### 1. Logistic Regression: Logistic regression is a linear classification algorithm that models the relationship between the input features and the probability of belonging to a specific class. It is widely used for binary classification problems.\n",
    "\n",
    "#### 2.Decision Trees: Decision tree algorithms create a tree-like model of decisions based on input features. They split the data based on different features and make decisions at each node until reaching the leaf nodes, where the final class labels are assigned.\n",
    "\n",
    "#### 3.Random Forest: Random forest is an ensemble learning algorithm that combines multiple decision trees. It constructs a multitude of decision trees and combines their predictions to make the final classification decision. Random forest improves upon the individual decision tree's performance and reduces overfitting.\n",
    "\n",
    "#### 4.Naive Bayes: Naive Bayes algorithms are based on Bayes' theorem and assume independence between input features. They calculate the conditional probability of each class given the input features and assign the class with the highest probability.\n",
    "\n",
    "#### 5.Support Vector Machines (SVM): SVM algorithms find a hyperplane that separates the data into different classes while maximizing the margin between the classes. They can handle both linear and non-linear classification problems using different kernel functions.\n",
    "\n",
    "#### 6.K-Nearest Neighbors (KNN): KNN is a non-parametric algorithm that assigns a class label to a data point based on the majority class labels of its k nearest neighbors in the feature space. It is based on the assumption that similar data points tend to belong to the same class.\n",
    "\n",
    "#### 7.Neural Networks: Neural networks are a versatile class of algorithms inspired by the functioning of the human brain. They consist of interconnected layers of artificial neurons and can be used for various classification tasks, ranging from simple to complex.\n",
    "\n",
    "https://monkeylearn.com/blog/classification-algorithms/"
   ]
  },
  {
   "cell_type": "code",
   "execution_count": null,
   "id": "3b550842",
   "metadata": {},
   "outputs": [],
   "source": []
  }
 ],
 "metadata": {
  "kernelspec": {
   "display_name": "Python 3 (ipykernel)",
   "language": "python",
   "name": "python3"
  },
  "language_info": {
   "codemirror_mode": {
    "name": "ipython",
    "version": 3
   },
   "file_extension": ".py",
   "mimetype": "text/x-python",
   "name": "python",
   "nbconvert_exporter": "python",
   "pygments_lexer": "ipython3",
   "version": "3.9.12"
  }
 },
 "nbformat": 4,
 "nbformat_minor": 5
}
