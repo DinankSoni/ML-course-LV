{
 "cells": [
  {
   "cell_type": "code",
   "execution_count": 1,
   "id": "e239aa0c",
   "metadata": {},
   "outputs": [
    {
     "name": "stdout",
     "output_type": "stream",
     "text": [
      "start learning! never giveup\n"
     ]
    }
   ],
   "source": [
    "print('start learning! never giveup')"
   ]
  },
  {
   "cell_type": "markdown",
   "id": "e015e0f0",
   "metadata": {},
   "source": [
    "# Type of Learning "
   ]
  },
  {
   "cell_type": "markdown",
   "id": "0096b95f",
   "metadata": {},
   "source": [
    "### 1. Supervised Learning\n",
    "### 2. UnSupervised Learning\n",
    "### 3. Reinforcement Learning\n",
    "## sub - type\n",
    "### 1. Semi-Supervised Learning\n",
    "### 2. Probabilistic Learning\n",
    "### 3. Ensemble Learning\n"
   ]
  },
  {
   "cell_type": "markdown",
   "id": "653f478c",
   "metadata": {},
   "source": [
    "# Tools for Machine Learning\n",
    "\n",
    "### 1. Scikit-learn\n",
    "### 2. PyTorch\n",
    "### 3. TensorFolw\n",
    "### 4. Weka\n",
    "### 5. Knime\n",
    "#### there are more tools for ML"
   ]
  },
  {
   "cell_type": "markdown",
   "id": "411c10d9",
   "metadata": {},
   "source": [
    "# Data Wrangling or Data PreProcessing or Data Cleansing or Data Munging"
   ]
  },
  {
   "cell_type": "markdown",
   "id": "cde52c76",
   "metadata": {},
   "source": [
    "## process of data wrangling\n",
    "### 1. Discovering\n",
    "### 2. Cleaning\n",
    "### 3. Data validation\n",
    "### 4. Structuring"
   ]
  },
  {
   "cell_type": "markdown",
   "id": "20135a39",
   "metadata": {},
   "source": [
    "## EDA :- Exploratory Data Analysis"
   ]
  },
  {
   "cell_type": "markdown",
   "id": "cbc9a400",
   "metadata": {},
   "source": [
    "# for Structured data\n",
    "## ETL :- Extract -> Transfrom -> Load \n",
    "# for semi or un Structured data\n",
    "## ELT :- Extract -> Load -> Transfrom"
   ]
  },
  {
   "cell_type": "markdown",
   "id": "e0cfb601",
   "metadata": {},
   "source": [
    "# Data Analysis Life cycle\n",
    "### Discover the questions -> Acquire the data -> Clean the data -> Explore the data -> Feature engineering -> Predictive modelling -> Data visualisation\n",
    "#### repete cycle"
   ]
  },
  {
   "cell_type": "code",
   "execution_count": null,
   "id": "02133dc3",
   "metadata": {},
   "outputs": [],
   "source": []
  }
 ],
 "metadata": {
  "kernelspec": {
   "display_name": "Python 3 (ipykernel)",
   "language": "python",
   "name": "python3"
  },
  "language_info": {
   "codemirror_mode": {
    "name": "ipython",
    "version": 3
   },
   "file_extension": ".py",
   "mimetype": "text/x-python",
   "name": "python",
   "nbconvert_exporter": "python",
   "pygments_lexer": "ipython3",
   "version": "3.9.12"
  }
 },
 "nbformat": 4,
 "nbformat_minor": 5
}
