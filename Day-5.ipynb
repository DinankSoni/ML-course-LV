{
 "cells": [
  {
   "cell_type": "code",
   "execution_count": 1,
   "id": "f66bdfc7",
   "metadata": {},
   "outputs": [
    {
     "name": "stdout",
     "output_type": "stream",
     "text": [
      "long time to get here\n"
     ]
    }
   ],
   "source": [
    "print('long time to get here')"
   ]
  },
  {
   "cell_type": "markdown",
   "id": "a62032b4",
   "metadata": {},
   "source": [
    "# Distribution"
   ]
  },
  {
   "cell_type": "markdown",
   "id": "aefa8432",
   "metadata": {},
   "source": [
    "## 1. normal distribution\n",
    "\n",
    "### f(x) = (1 / (σ * √(2π))) * e^((-1/2)*(x- μ/σ)^2)\n",
    " \n",
    "* f(x)\t=\tprobability density function\n",
    "* sigma(σ)\t=\tstandard deviation\n",
    "* mu(μ)\t=\tmean"
   ]
  },
  {
   "cell_type": "markdown",
   "id": "c6ed2e2c",
   "metadata": {},
   "source": [
    "## https://www.ml-science.com/normal-distribution"
   ]
  },
  {
   "cell_type": "code",
   "execution_count": 2,
   "id": "ce8b7d1d",
   "metadata": {},
   "outputs": [],
   "source": [
    "import scipy.stats\n",
    "import numpy as np\n",
    "import matplotlib.pyplot as plt"
   ]
  },
  {
   "cell_type": "code",
   "execution_count": 5,
   "id": "c3f11c56",
   "metadata": {},
   "outputs": [],
   "source": [
    "np.random.seed(123)"
   ]
  },
  {
   "cell_type": "code",
   "execution_count": 7,
   "id": "4fdaf518",
   "metadata": {},
   "outputs": [
    {
     "data": {
      "text/plain": [
       "array([ 79.79933443, 126.91614686,  97.07914796, ...,  73.595221  ,\n",
       "       250.20246028, 178.50927468])"
      ]
     },
     "execution_count": 7,
     "metadata": {},
     "output_type": "execute_result"
    }
   ],
   "source": [
    "samples = np.random.lognormal(mean=5, sigma=0.5, size= 10000)\n",
    "samples"
   ]
  },
  {
   "cell_type": "code",
   "execution_count": 8,
   "id": "a098745e",
   "metadata": {},
   "outputs": [],
   "source": [
    "shape, loc, scale = scipy.stats.lognorm.fit(samples, floc=0)"
   ]
  },
  {
   "cell_type": "markdown",
   "id": "e5969739",
   "metadata": {},
   "source": [
    "## it used to fit a log-normal distribution to a set of samples using the scipy.stats.lognorm.fit() function. Here's an explanation of the parameters:\n",
    "\n",
    "* samples: This parameter represents the dataset or samples for which you want to fit a log-normal distribution. It should be an array or a sequence of values.\n",
    "\n",
    "* floc (optional): This parameter is used to fix the location parameter (loc) of the log-normal distribution. By default, it is set to 0, indicating that the location parameter is estimated from the data.\n",
    "\n",
    "### The scipy.stats.lognorm.fit() function returns three values: shape, loc, and scale. Here's what each of them represents:\n",
    "\n",
    "* shape: The shape parameter corresponds to the shape or skewness of the log-normal distribution. It determines the shape of the distribution's probability density function (PDF). A positive shape parameter indicates a right-skewed distribution, while a negative shape parameter indicates a left-skewed distribution.\n",
    "\n",
    "* loc: The loc parameter represents the location parameter of the log-normal distribution. It determines the horizontal shift or displacement of the distribution. By default, it is estimated from the data unless specified using the floc parameter.\n",
    "\n",
    "* scale: The scale parameter corresponds to the scale parameter of the log-normal distribution. It determines the vertical scaling or magnitude of the distribution. It is estimated from the data and represents the exponential of the mean of the logarithm of the samples.\n",
    "\n",
    "### By fitting the log-normal distribution to the provided samples, the code estimates the optimal values for the shape, loc, and scale parameters based on the data. These parameters can then be used to describe and generate log-normal distributed data or make statistical inferences about the underlying population.\n",
    "\n",
    "### Note that fitting a distribution to data involves estimating the parameters that best capture the characteristics of the data. The fit() function in SciPy's statistics module provides a convenient way to estimate the parameters of various probability distributions based on the given samples."
   ]
  },
  {
   "cell_type": "code",
   "execution_count": 9,
   "id": "f64ddf62",
   "metadata": {},
   "outputs": [
    {
     "data": {
      "text/plain": [
       "0.5012782082491718"
      ]
     },
     "execution_count": 9,
     "metadata": {},
     "output_type": "execute_result"
    }
   ],
   "source": [
    "shape"
   ]
  },
  {
   "cell_type": "code",
   "execution_count": 10,
   "id": "83aeec88",
   "metadata": {},
   "outputs": [
    {
     "data": {
      "text/plain": [
       "0.0"
      ]
     },
     "execution_count": 10,
     "metadata": {},
     "output_type": "execute_result"
    }
   ],
   "source": [
    "loc"
   ]
  },
  {
   "cell_type": "code",
   "execution_count": 11,
   "id": "752b41e9",
   "metadata": {},
   "outputs": [
    {
     "data": {
      "text/plain": [
       "149.18514243046852"
      ]
     },
     "execution_count": 11,
     "metadata": {},
     "output_type": "execute_result"
    }
   ],
   "source": [
    "scale"
   ]
  },
  {
   "cell_type": "code",
   "execution_count": 12,
   "id": "7333f59d",
   "metadata": {},
   "outputs": [],
   "source": [
    "num_bins = 50"
   ]
  },
  {
   "cell_type": "code",
   "execution_count": 13,
   "id": "936461e2",
   "metadata": {},
   "outputs": [
    {
     "data": {
      "image/png": "[encoded data removed]",
      "text/plain": [
       "<Figure size 432x288 with 1 Axes>"
      ]
     },
     "metadata": {
      "needs_background": "light"
     },
     "output_type": "display_data"
    }
   ],
   "source": [
    "counts, edges, patches = plt.hist(samples, bins= num_bins, color='r')"
   ]
  },
  {
   "cell_type": "markdown",
   "id": "ca29dd30",
   "metadata": {},
   "source": [
    "## The line of code you provided is used to create a histogram of a set of samples using the plt.hist() function from the Matplotlib library. Here's an explanation of the variables and parameters used:\n",
    "\n",
    "* samples: This variable represents the dataset or samples for which you want to create a histogram. It should be an array or a sequence of values.\n",
    "\n",
    "* bins: This parameter specifies the number of bins or intervals to divide the range of the data into. It determines the width of each bar in the histogram. The num_bins variable in your code represents the number of bins to be used.\n",
    "\n",
    "* color (optional): This parameter determines the color of the bars in the histogram. In your code, 'r' is used to specify the color red.\n",
    "\n",
    "### The plt.hist() function returns three values: counts, edges, and patches. Here's what each of them represents:\n",
    "\n",
    "* counts: The counts variable is an array that contains the number of samples that fall into each bin of the histogram. Each value in the array represents the count or frequency of samples in a particular bin.\n",
    "\n",
    "* edges: The edges variable is an array that contains the edges or boundaries of each bin in the histogram. It specifies the starting and ending points of each bin interval.\n",
    "\n",
    "* patches: The patches variable is a list of individual bar-like objects that make up the histogram. Each patch represents a single bar in the histogram plot.\n",
    "\n",
    "### By using the plt.hist() function, you can visualize the distribution of your data through a histogram. The histogram represents the frequencies or counts of samples that fall into different bins, allowing you to understand the data's distribution, central tendency, and spread.\n",
    "\n",
    "### You can further customize the histogram by specifying parameters such as bin width, color, labels, and titles to enhance the visual representation of your data."
   ]
  },
  {
   "cell_type": "code",
   "execution_count": 14,
   "id": "662326f4",
   "metadata": {},
   "outputs": [
    {
     "data": {
      "text/plain": [
       "array([1.110e+02, 5.200e+02, 1.067e+03, 1.321e+03, 1.269e+03, 1.160e+03,\n",
       "       1.027e+03, 8.380e+02, 6.110e+02, 4.990e+02, 3.470e+02, 3.020e+02,\n",
       "       2.280e+02, 1.610e+02, 1.450e+02, 8.900e+01, 7.000e+01, 4.400e+01,\n",
       "       4.800e+01, 2.600e+01, 2.500e+01, 1.400e+01, 2.000e+01, 1.800e+01,\n",
       "       8.000e+00, 4.000e+00, 5.000e+00, 4.000e+00, 2.000e+00, 4.000e+00,\n",
       "       1.000e+00, 3.000e+00, 1.000e+00, 2.000e+00, 2.000e+00, 1.000e+00,\n",
       "       0.000e+00, 1.000e+00, 0.000e+00, 0.000e+00, 1.000e+00, 0.000e+00,\n",
       "       0.000e+00, 0.000e+00, 0.000e+00, 0.000e+00, 0.000e+00, 0.000e+00,\n",
       "       0.000e+00, 1.000e+00])"
      ]
     },
     "execution_count": 14,
     "metadata": {},
     "output_type": "execute_result"
    }
   ],
   "source": [
    "counts"
   ]
  },
  {
   "cell_type": "code",
   "execution_count": 15,
   "id": "bf816f31",
   "metadata": {},
   "outputs": [
    {
     "data": {
      "text/plain": [
       "array([  25.54105993,   47.68323079,   69.82540166,   91.96757252,\n",
       "        114.10974339,  136.25191425,  158.39408512,  180.53625598,\n",
       "        202.67842685,  224.82059771,  246.96276858,  269.10493944,\n",
       "        291.24711031,  313.38928117,  335.53145204,  357.6736229 ,\n",
       "        379.81579377,  401.95796463,  424.1001355 ,  446.24230636,\n",
       "        468.38447723,  490.52664809,  512.66881896,  534.81098983,\n",
       "        556.95316069,  579.09533156,  601.23750242,  623.37967329,\n",
       "        645.52184415,  667.66401502,  689.80618588,  711.94835675,\n",
       "        734.09052761,  756.23269848,  778.37486934,  800.51704021,\n",
       "        822.65921107,  844.80138194,  866.9435528 ,  889.08572367,\n",
       "        911.22789453,  933.3700654 ,  955.51223626,  977.65440713,\n",
       "        999.79657799, 1021.93874886, 1044.08091972, 1066.22309059,\n",
       "       1088.36526145, 1110.50743232, 1132.64960318])"
      ]
     },
     "execution_count": 15,
     "metadata": {},
     "output_type": "execute_result"
    }
   ],
   "source": [
    "edges"
   ]
  },
  {
   "cell_type": "code",
   "execution_count": 16,
   "id": "1340c5cc",
   "metadata": {},
   "outputs": [
    {
     "data": {
      "text/plain": [
       "<BarContainer object of 50 artists>"
      ]
     },
     "execution_count": 16,
     "metadata": {},
     "output_type": "execute_result"
    }
   ],
   "source": [
    "patches"
   ]
  },
  {
   "cell_type": "markdown",
   "id": "7b969e98",
   "metadata": {},
   "source": [
    "# 2.Binomial Distribution"
   ]
  },
  {
   "cell_type": "markdown",
   "id": "5baba03a",
   "metadata": {},
   "source": [
    "## P = nCr * p^r * q^n-r"
   ]
  },
  {
   "cell_type": "markdown",
   "id": "eac8489f",
   "metadata": {},
   "source": [
    "### n = number of independent trials\n",
    "### p = probability of success \n",
    "### q = (1-p) probability of failure"
   ]
  },
  {
   "cell_type": "code",
   "execution_count": 17,
   "id": "9cde5940",
   "metadata": {},
   "outputs": [],
   "source": [
    "import seaborn\n",
    "from scipy.stats import binom"
   ]
  },
  {
   "cell_type": "code",
   "execution_count": 18,
   "id": "70e05f4d",
   "metadata": {},
   "outputs": [],
   "source": [
    "data = binom.rvs(n=17, p=0.7, loc=0, size=1010)"
   ]
  },
  {
   "cell_type": "code",
   "execution_count": 19,
   "id": "be902173",
   "metadata": {},
   "outputs": [
    {
     "data": {
      "text/plain": [
       "array([11, 11,  9, ..., 15, 11, 13])"
      ]
     },
     "execution_count": 19,
     "metadata": {},
     "output_type": "execute_result"
    }
   ],
   "source": [
    "data"
   ]
  },
  {
   "cell_type": "markdown",
   "id": "546cb3c3",
   "metadata": {},
   "source": [
    "## it generates a random sample from a binomial distribution using the binom.rvs() function from the SciPy library. Here's an explanation of the parameters used:\n",
    "\n",
    "* n: This parameter represents the number of trials or experiments in the binomial distribution. In your code, it is set to 17.\n",
    "\n",
    "* p: This parameter denotes the probability of success in each individual trial. It should be a value between 0 and 1. In your code, it is set to 0.7, indicating a 70% probability of success in each trial.\n",
    "\n",
    "* loc (optional): This parameter represents the location or starting point of the distribution. By default, it is set to 0, indicating that the distribution starts from zero.\n",
    "\n",
    "* size: This parameter specifies the number of random samples to generate from the binomial distribution. In your code, it is set to 1010, meaning that 1010 random values will be generated.\n",
    "\n",
    "### The binom.rvs() function returns an array of random values drawn from the specified binomial distribution. Each value in the array represents the number of successes observed in a fixed number of trials, where the probability of success in each trial is given by p.\n",
    "\n",
    "### In your example, you generate 1010 random samples from a binomial distribution with 17 trials and a 70% probability of success. Each value in the resulting array represents the count of successes in 17 trials, randomly generated based on the specified parameters.\n",
    "\n",
    "### This random sample can be used for various purposes, such as simulating data, conducting statistical analyses, or studying the properties of the binomial distribution."
   ]
  },
  {
   "cell_type": "code",
   "execution_count": 35,
   "id": "16513b67",
   "metadata": {},
   "outputs": [
    {
     "name": "stderr",
     "output_type": "stream",
     "text": [
      "C:\\Users\\Dell\\anaconda3\\lib\\site-packages\\seaborn\\distributions.py:2619: FutureWarning: `distplot` is a deprecated function and will be removed in a future version. Please adapt your code to use either `displot` (a figure-level function with similar flexibility) or `histplot` (an axes-level function for histograms).\n",
      "  warnings.warn(msg, FutureWarning)\n"
     ]
    },
    {
     "data": {
      "image/png": "[encoded data removed]",
      "text/plain": [
       "<Figure size 432x288 with 1 Axes>"
      ]
     },
     "metadata": {
      "needs_background": "light"
     },
     "output_type": "display_data"
    }
   ],
   "source": [
    "ax = seaborn.distplot(data, kde=True, color='g', hist_kws={\"linewidth\":10, \"alpha\":0.77})"
   ]
  },
  {
   "cell_type": "markdown",
   "id": "deb0bf24",
   "metadata": {},
   "source": [
    "## it uses the seaborn.distplot() function from the Seaborn library to plot a histogram and a kernel density estimate (KDE) of the data. Here's an explanation of the parameters used:\n",
    "\n",
    "* data: This parameter represents the dataset or array of values that you want to plot. In your code, it is the data variable containing the random samples from the binomial distribution.\n",
    "\n",
    "* kde: This parameter controls whether to display the KDE plot or not. If set to True, it overlays a smoothed estimate of the data's distribution using a KDE curve. In your code, it is set to True, indicating that the KDE plot should be shown.\n",
    "\n",
    "* color: This parameter specifies the color of the histogram bars and the KDE curve. In your code, it is set to 'g', representing the color green.\n",
    "\n",
    "* hist_kws: This parameter is used to pass additional keyword arguments to the underlying histogram plot. In your code, it is a dictionary containing two arguments: \"linewidth\" and \"alpha\". \"linewidth\" sets the width of the histogram bars to 20, and \"alpha\" sets the transparency of the bars to 0.77.\n",
    "\n",
    "### The seaborn.distplot() function combines a histogram and a KDE plot to provide a visual representation of the data's distribution. The histogram represents the frequencies or counts of values falling into different bins, while the KDE curve is an estimate of the underlying probability density function (PDF) of the data.\n",
    "\n",
    "### By using this function, you can quickly visualize the shape, central tendency, and spread of the data. It is particularly useful for exploring the distribution of continuous variables and identifying any potential patterns or outliers in the data.\n",
    "\n",
    "### The resulting plot, assigned to the variable ax, can be further customized using various Seaborn and Matplotlib functions to modify the axis labels, titles, legends, colors, and other visual elements."
   ]
  },
  {
   "cell_type": "markdown",
   "id": "3c2d6e9c",
   "metadata": {},
   "source": [
    "# https://www.shiksha.com/online-courses/articles/binomial-distribution-definition-and-examples/"
   ]
  },
  {
   "cell_type": "code",
   "execution_count": 36,
   "id": "0100165e",
   "metadata": {},
   "outputs": [
    {
     "data": {
      "text/plain": [
       "<AxesSubplot:ylabel='Density'>"
      ]
     },
     "execution_count": 36,
     "metadata": {},
     "output_type": "execute_result"
    }
   ],
   "source": [
    "ax"
   ]
  },
  {
   "cell_type": "markdown",
   "id": "0c67dd68",
   "metadata": {},
   "source": [
    "# 3.Poisson Distribution"
   ]
  },
  {
   "cell_type": "markdown",
   "id": "e1aeea34",
   "metadata": {},
   "source": [
    "## f(x) =(e^– λ * λ^x)/x!"
   ]
  },
  {
   "cell_type": "markdown",
   "id": "b2283d1b",
   "metadata": {},
   "source": [
    "* Where,\n",
    "\n",
    "* e is the base of the logarithm\n",
    "\n",
    "* x is a Poisson random variable\n",
    "\n",
    "* λ is an average rate of value"
   ]
  },
  {
   "cell_type": "code",
   "execution_count": 37,
   "id": "ff4a25dd",
   "metadata": {},
   "outputs": [],
   "source": [
    "s = np.random.poisson(5,1000)"
   ]
  },
  {
   "cell_type": "code",
   "execution_count": 41,
   "id": "825c7fc2",
   "metadata": {},
   "outputs": [
    {
     "data": {
      "text/plain": [
       "(array([  4.,  34.,  81., 123., 195., 176., 134.,   0., 112.,  75.,  36.,\n",
       "         14.,   8.,   3.,   4.,   1.]),\n",
       " array([ 0.   ,  0.875,  1.75 ,  2.625,  3.5  ,  4.375,  5.25 ,  6.125,\n",
       "         7.   ,  7.875,  8.75 ,  9.625, 10.5  , 11.375, 12.25 , 13.125,\n",
       "        14.   ]),\n",
       " <BarContainer object of 16 artists>)"
      ]
     },
     "execution_count": 41,
     "metadata": {},
     "output_type": "execute_result"
    },
    {
     "data": {
      "image/png": "[encoded data removed]",
      "text/plain": [
       "<Figure size 432x288 with 1 Axes>"
      ]
     },
     "metadata": {
      "needs_background": "light"
     },
     "output_type": "display_data"
    }
   ],
   "source": [
    "plt.hist(s, bins = 16, color='b')"
   ]
  },
  {
   "cell_type": "markdown",
   "id": "616d2b62",
   "metadata": {},
   "source": [
    "* s: This parameter represents the dataset or array of values for which you want to create a histogram. It is the data you want to analyze and visualize.\n",
    "\n",
    "* bins: This parameter specifies the number of bins or intervals to divide the range of the data into. In your code, it is set to 16, indicating that the data will be divided into 16 equal-width bins.\n",
    "\n",
    "* color: This parameter determines the color of the bars in the histogram. In your code, it is set to 'b', representing the color blue.\n",
    "\n",
    "#### The corrected line of code, plt.hist(s, bins=16, color='b'), creates a histogram plot using the plt.hist() function from the Matplotlib library. The bins parameter is used to specify the number of bins for the histogram, and the color parameter determines the color of the bars.\n",
    "\n",
    "#### The resulting plot will display the distribution of the data s in the form of a histogram, with the data divided into 16 bins and the bars colored in blue.\n",
    "\n",
    "#### Remember to have the necessary import statements for the required libraries before running this code."
   ]
  },
  {
   "cell_type": "markdown",
   "id": "f17744fb",
   "metadata": {},
   "source": [
    "# 4.Bernoulli Distribution"
   ]
  },
  {
   "cell_type": "markdown",
   "id": "da508158",
   "metadata": {},
   "source": [
    "## The probability mass function (PMF) of the Bernoulli distribution is given by the formula:\n",
    "\n",
    "## P(X = x) = p^x * (1 - p)^(1-x)"
   ]
  },
  {
   "cell_type": "markdown",
   "id": "beeb90b7",
   "metadata": {},
   "source": [
    "* In this formula, \"X\" represents the random variable denoting the outcome of a Bernoulli trial, \"x\" can take the values 0 or 1 (representing failure or success, respectively), and \"p\" is the probability of success in a single trial.\n",
    "\n",
    "* When \"x\" is 0 (representing failure), the probability is given by (1 - p)^(1-0) = 1 - p. This means that the probability of failure is 1 minus the probability of success.\n",
    "\n",
    "* When \"x\" is 1 (representing success), the probability is given by p^1 * (1 - p)^(1-1) = p. This means that the probability of success is equal to \"p\".\n",
    "\n",
    "* The Bernoulli distribution is characterized by this simple formula, which allows us to calculate the probabilities of different outcomes based on the probability of success in a single trial."
   ]
  },
  {
   "cell_type": "code",
   "execution_count": 42,
   "id": "5a3efc40",
   "metadata": {},
   "outputs": [],
   "source": [
    "sp = np.random.binomial(10,.5,1000) "
   ]
  },
  {
   "cell_type": "markdown",
   "id": "f192e1a5",
   "metadata": {},
   "source": [
    "* 10: This parameter represents the number of trials or experiments to be performed. In your code, it is set to 10, meaning that you are simulating a binomial experiment with 10 trials.\n",
    "\n",
    "* .5: This parameter represents the probability of success for each trial. In your code, it is set to 0.5, indicating that each trial has an equal probability of success and failure.\n",
    "\n",
    "* 1000: This parameter specifies the size or number of random samples to be generated. In your code, it is set to 1000, meaning that you want to generate a random sample of 1000 values from the binomial distribution.\n",
    "\n",
    "* The np.random.binomial() function generates random numbers according to the binomial distribution. It simulates a series of independent Bernoulli trials (each with the same success probability) and counts the number of successes across the specified number of trials.\n",
    "\n",
    "#### In your code, sp is assigned the resulting random sample, which will contain 1000 values representing the number of successes observed in 10 trials with a success probability of 0.5. Each value in the sample will be an integer ranging from 0 to 10, indicating the count of successes in each simulated experiment.\n",
    "\n",
    "#### This kind of simulation can be used to model real-world scenarios involving binary outcomes, such as flipping a coin (heads or tails) multiple times and observing the number of heads obtained. The binomial distribution allows us to study the probabilities and statistics associated with such experiments."
   ]
  },
  {
   "cell_type": "code",
   "execution_count": 45,
   "id": "49c30c44",
   "metadata": {},
   "outputs": [
    {
     "data": {
      "text/plain": [
       "(array([  1.,   4.,   0.,  53., 103.,   0., 185.,   0., 287., 205.,   0.,\n",
       "        107.,  44.,   0.,  10.,   1.]),\n",
       " array([ 0.   ,  0.625,  1.25 ,  1.875,  2.5  ,  3.125,  3.75 ,  4.375,\n",
       "         5.   ,  5.625,  6.25 ,  6.875,  7.5  ,  8.125,  8.75 ,  9.375,\n",
       "        10.   ]),\n",
       " <BarContainer object of 16 artists>)"
      ]
     },
     "execution_count": 45,
     "metadata": {},
     "output_type": "execute_result"
    },
    {
     "data": {
      "image/png": "[encoded data removed]",
      "text/plain": [
       "<Figure size 432x288 with 1 Axes>"
      ]
     },
     "metadata": {
      "needs_background": "light"
     },
     "output_type": "display_data"
    }
   ],
   "source": [
    "plt.hist(sp,bins = 16, color='y')"
   ]
  },
  {
   "cell_type": "code",
   "execution_count": null,
   "id": "9787acdb",
   "metadata": {},
   "outputs": [],
   "source": []
  }
 ],
 "metadata": {
  "kernelspec": {
   "display_name": "Python 3 (ipykernel)",
   "language": "python",
   "name": "python3"
  },
  "language_info": {
   "codemirror_mode": {
    "name": "ipython",
    "version": 3
   },
   "file_extension": ".py",
   "mimetype": "text/x-python",
   "name": "python",
   "nbconvert_exporter": "python",
   "pygments_lexer": "ipython3",
   "version": "3.9.12"
  }
 },
 "nbformat": 4,
 "nbformat_minor": 5
}
